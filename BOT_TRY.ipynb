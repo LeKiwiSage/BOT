{
 "cells": [
  {
   "cell_type": "code",
   "execution_count": 1,
   "id": "faafb187",
   "metadata": {},
   "outputs": [
    {
     "name": "stderr",
     "output_type": "stream",
     "text": [
      "2024-05-09 11:28:04.632 \n",
      "  \u001b[33m\u001b[1mWarning:\u001b[0m to view this Streamlit app on a browser, run it with the following\n",
      "  command:\n",
      "\n",
      "    streamlit run C:\\Users\\bojar\\anaconda3\\lib\\site-packages\\ipykernel_launcher.py [ARGUMENTS]\n"
     ]
    }
   ],
   "source": [
    "import numpy as np\n",
    "import pandas as pd\n",
    "import math\n",
    "from empyrial import empyrial, Engine\n",
    "import matplotlib.pyplot as plt\n",
    "import yfinance as yf\n",
    "import streamlit as st\n",
    "\n",
    "st.title('P.I.C.T.E.T Portfolio Optimizer')\n",
    "\n",
    "\n",
    "#Welcome Statement\n",
    "txt = st.text_area(\n",
    "    \"Welcome to our investment platform!\",\n",
    "    \"We are thrilled to have you onboard as we embark on an exciting journey together.\"\n",
    "    \"Our goal is simple yet ambitious: to empower you to grow your investment portfolio\" \n",
    "    \"across multiple assets, tailored precisely to your unique risk-reward profile.\"\n",
    "    \"By understanding your risk tolerance, investment goals, and preferences, we will\" \n",
    "    \"craft a personalized investment strategy that aligns with your vision for the future.\"\n",
    "    \"Whether you are seeking steady growth, aggressive expansion, or somewhere in between,\" \n",
    "    \"our bot will work tirelessly to optimize your portfolio for maximum returns while managing risk effectively.\"\n",
    "    \"With our investment fund, you're not just investing your money – you're investing in your future.\" \n",
    "    \"Together, let's unlock the full potential of your assets and build a brighter financial tomorrow. Welcome aboard!\",\n",
    "    )"
   ]
  }
 ],
 "metadata": {
  "kernelspec": {
   "display_name": "Python 3 (ipykernel)",
   "language": "python",
   "name": "python3"
  },
  "language_info": {
   "codemirror_mode": {
    "name": "ipython",
    "version": 3
   },
   "file_extension": ".py",
   "mimetype": "text/x-python",
   "name": "python",
   "nbconvert_exporter": "python",
   "pygments_lexer": "ipython3",
   "version": "3.9.18"
  }
 },
 "nbformat": 4,
 "nbformat_minor": 5
}
